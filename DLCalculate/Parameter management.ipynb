{
 "cells": [
  {
   "cell_type": "markdown",
   "source": [
    "参数管理"
   ],
   "metadata": {
    "collapsed": false
   },
   "id": "139b45f91ddc1a5"
  },
  {
   "cell_type": "code",
   "execution_count": 1,
   "id": "initial_id",
   "metadata": {
    "collapsed": true,
    "ExecuteTime": {
     "end_time": "2024-03-17T12:20:42.981472100Z",
     "start_time": "2024-03-17T12:20:41.257669600Z"
    }
   },
   "outputs": [
    {
     "data": {
      "text/plain": "tensor([[ 0.1105],\n        [-0.0159]], grad_fn=<AddmmBackward0>)"
     },
     "execution_count": 1,
     "metadata": {},
     "output_type": "execute_result"
    }
   ],
   "source": [
    "import torch\n",
    "from torch import nn\n",
    "\n",
    "net = nn.Sequential(nn.Linear(4, 8), nn.ReLU(), nn.Linear(8, 1))\n",
    "X = torch.rand(size=(2, 4))\n",
    "net(X)"
   ]
  },
  {
   "cell_type": "code",
   "execution_count": 2,
   "outputs": [
    {
     "name": "stdout",
     "output_type": "stream",
     "text": [
      "OrderedDict([('weight', tensor([[ 0.1089, -0.1097, -0.0281, -0.4051],\n",
      "        [ 0.0504,  0.1868, -0.2534,  0.2164],\n",
      "        [ 0.1454,  0.4354,  0.3797, -0.3737],\n",
      "        [-0.2444,  0.2058,  0.4850, -0.4469],\n",
      "        [ 0.2029,  0.2484, -0.1585, -0.2269],\n",
      "        [ 0.4823, -0.0741, -0.1780,  0.4760],\n",
      "        [-0.4182,  0.0209, -0.2330,  0.0735],\n",
      "        [ 0.2836,  0.4582,  0.0946,  0.3221]])), ('bias', tensor([-0.3135, -0.2079,  0.3889,  0.4550, -0.2938, -0.2370,  0.0185,  0.2152]))])\n"
     ]
    }
   ],
   "source": [
    "# 获取模型或模型部分的状态字典\n",
    "print(net[0].state_dict())"
   ],
   "metadata": {
    "collapsed": false,
    "ExecuteTime": {
     "end_time": "2024-03-17T12:20:42.994065700Z",
     "start_time": "2024-03-17T12:20:42.979472100Z"
    }
   },
   "id": "69c1573e8045b9e"
  },
  {
   "cell_type": "code",
   "execution_count": 3,
   "outputs": [
    {
     "name": "stdout",
     "output_type": "stream",
     "text": [
      "OrderedDict()\n"
     ]
    }
   ],
   "source": [
    "print(net[1].state_dict())"
   ],
   "metadata": {
    "collapsed": false,
    "ExecuteTime": {
     "end_time": "2024-03-17T12:20:43.038954200Z",
     "start_time": "2024-03-17T12:20:42.994065700Z"
    }
   },
   "id": "c9729c9a704da8ef"
  },
  {
   "cell_type": "code",
   "execution_count": 4,
   "outputs": [
    {
     "name": "stdout",
     "output_type": "stream",
     "text": [
      "OrderedDict([('weight', tensor([[ 0.2197, -0.0299, -0.0822,  0.2614,  0.1706, -0.2312,  0.0318,  0.3475]])), ('bias', tensor([-0.2960]))])\n"
     ]
    }
   ],
   "source": [
    "print(net[2].state_dict())"
   ],
   "metadata": {
    "collapsed": false,
    "ExecuteTime": {
     "end_time": "2024-03-17T12:20:43.039829800Z",
     "start_time": "2024-03-17T12:20:43.011399500Z"
    }
   },
   "id": "940ada6f94dadfae"
  },
  {
   "cell_type": "code",
   "execution_count": 5,
   "outputs": [
    {
     "name": "stdout",
     "output_type": "stream",
     "text": [
      "OrderedDict([('0.weight', tensor([[ 0.1089, -0.1097, -0.0281, -0.4051],\n",
      "        [ 0.0504,  0.1868, -0.2534,  0.2164],\n",
      "        [ 0.1454,  0.4354,  0.3797, -0.3737],\n",
      "        [-0.2444,  0.2058,  0.4850, -0.4469],\n",
      "        [ 0.2029,  0.2484, -0.1585, -0.2269],\n",
      "        [ 0.4823, -0.0741, -0.1780,  0.4760],\n",
      "        [-0.4182,  0.0209, -0.2330,  0.0735],\n",
      "        [ 0.2836,  0.4582,  0.0946,  0.3221]])), ('0.bias', tensor([-0.3135, -0.2079,  0.3889,  0.4550, -0.2938, -0.2370,  0.0185,  0.2152])), ('2.weight', tensor([[ 0.2197, -0.0299, -0.0822,  0.2614,  0.1706, -0.2312,  0.0318,  0.3475]])), ('2.bias', tensor([-0.2960]))])\n"
     ]
    }
   ],
   "source": [
    "print(net.state_dict())"
   ],
   "metadata": {
    "collapsed": false,
    "ExecuteTime": {
     "end_time": "2024-03-17T12:20:43.041829800Z",
     "start_time": "2024-03-17T12:20:43.025740200Z"
    }
   },
   "id": "70e83e0fa943692"
  },
  {
   "cell_type": "code",
   "execution_count": 6,
   "outputs": [
    {
     "name": "stdout",
     "output_type": "stream",
     "text": [
      "<class 'torch.nn.parameter.Parameter'>\n",
      "Parameter containing:\n",
      "tensor([-0.2960], requires_grad=True)\n",
      "tensor([-0.2960])\n"
     ]
    }
   ],
   "source": [
    "print(type(net[2].bias))\n",
    "print(net[2].bias)\n",
    "print(net[2].bias.data)"
   ],
   "metadata": {
    "collapsed": false,
    "ExecuteTime": {
     "end_time": "2024-03-17T12:20:43.059827900Z",
     "start_time": "2024-03-17T12:20:43.041829800Z"
    }
   },
   "id": "5b8e813fbd4bfc5e"
  },
  {
   "cell_type": "code",
   "execution_count": 7,
   "outputs": [
    {
     "data": {
      "text/plain": "True"
     },
     "execution_count": 7,
     "metadata": {},
     "output_type": "execute_result"
    }
   ],
   "source": [
    "net[2].weight.grad == None"
   ],
   "metadata": {
    "collapsed": false,
    "ExecuteTime": {
     "end_time": "2024-03-17T12:20:43.101553300Z",
     "start_time": "2024-03-17T12:20:43.057828Z"
    }
   },
   "id": "3fbcbae4378e50b3"
  },
  {
   "cell_type": "code",
   "execution_count": 8,
   "outputs": [
    {
     "name": "stdout",
     "output_type": "stream",
     "text": [
      "[('weight', torch.Size([8, 4])), ('bias', torch.Size([8]))]\n",
      "('0.weight', torch.Size([8, 4])) ('0.bias', torch.Size([8])) ('2.weight', torch.Size([1, 8])) ('2.bias', torch.Size([1]))\n"
     ]
    }
   ],
   "source": [
    "# named_paremeters生成一个迭代器\n",
    "print([(name, param.shape) for name, param in net[0].named_parameters()])\n",
    "print(*[(name, param.shape) for name, param in net.named_parameters()])"
   ],
   "metadata": {
    "collapsed": false,
    "ExecuteTime": {
     "end_time": "2024-03-17T12:20:43.112614200Z",
     "start_time": "2024-03-17T12:20:43.073709600Z"
    }
   },
   "id": "b78cc553d7c7d560"
  },
  {
   "cell_type": "code",
   "execution_count": 9,
   "outputs": [
    {
     "data": {
      "text/plain": "tensor([-0.2960])"
     },
     "execution_count": 9,
     "metadata": {},
     "output_type": "execute_result"
    }
   ],
   "source": [
    "net.state_dict()['2.bias'].detach()"
   ],
   "metadata": {
    "collapsed": false,
    "ExecuteTime": {
     "end_time": "2024-03-17T12:20:43.114592500Z",
     "start_time": "2024-03-17T12:20:43.088774500Z"
    }
   },
   "id": "ef5e460ccdafb0ca"
  },
  {
   "cell_type": "code",
   "execution_count": 10,
   "outputs": [
    {
     "data": {
      "text/plain": "tensor([[-0.1813],\n        [-0.1814]], grad_fn=<AddmmBackward0>)"
     },
     "execution_count": 10,
     "metadata": {},
     "output_type": "execute_result"
    }
   ],
   "source": [
    "def block1():\n",
    "    return nn.Sequential(nn.Linear(4, 8), nn.ReLU(),\n",
    "                         nn.Linear(8, 4), nn.ReLU())\n",
    "\n",
    "def block2():\n",
    "    net = nn.Sequential()\n",
    "    for i in range(4):\n",
    "        # 在这里嵌套\n",
    "        # 'block 0' -> 'block 1' -> 'block 2' -> 'block3'\n",
    "        net.add_module(f'block {i}', block1())\n",
    "    return net\n",
    "\n",
    "rgnet = nn.Sequential(block2(), nn.Linear(4, 1))\n",
    "rgnet(X)"
   ],
   "metadata": {
    "collapsed": false,
    "ExecuteTime": {
     "end_time": "2024-03-17T12:20:43.126887Z",
     "start_time": "2024-03-17T12:20:43.104593700Z"
    }
   },
   "id": "976b022f49a32d27"
  },
  {
   "cell_type": "code",
   "execution_count": 11,
   "outputs": [
    {
     "name": "stdout",
     "output_type": "stream",
     "text": [
      "Sequential(\n",
      "  (0): Sequential(\n",
      "    (block 0): Sequential(\n",
      "      (0): Linear(in_features=4, out_features=8, bias=True)\n",
      "      (1): ReLU()\n",
      "      (2): Linear(in_features=8, out_features=4, bias=True)\n",
      "      (3): ReLU()\n",
      "    )\n",
      "    (block 1): Sequential(\n",
      "      (0): Linear(in_features=4, out_features=8, bias=True)\n",
      "      (1): ReLU()\n",
      "      (2): Linear(in_features=8, out_features=4, bias=True)\n",
      "      (3): ReLU()\n",
      "    )\n",
      "    (block 2): Sequential(\n",
      "      (0): Linear(in_features=4, out_features=8, bias=True)\n",
      "      (1): ReLU()\n",
      "      (2): Linear(in_features=8, out_features=4, bias=True)\n",
      "      (3): ReLU()\n",
      "    )\n",
      "    (block 3): Sequential(\n",
      "      (0): Linear(in_features=4, out_features=8, bias=True)\n",
      "      (1): ReLU()\n",
      "      (2): Linear(in_features=8, out_features=4, bias=True)\n",
      "      (3): ReLU()\n",
      "    )\n",
      "  )\n",
      "  (1): Linear(in_features=4, out_features=1, bias=True)\n",
      ")\n"
     ]
    }
   ],
   "source": [
    "print(rgnet)"
   ],
   "metadata": {
    "collapsed": false,
    "ExecuteTime": {
     "end_time": "2024-03-17T12:20:43.179782900Z",
     "start_time": "2024-03-17T12:20:43.120594200Z"
    }
   },
   "id": "5fad56020a59e9ac"
  },
  {
   "cell_type": "code",
   "execution_count": 12,
   "outputs": [
    {
     "data": {
      "text/plain": "(tensor([ 0.4320, -0.3934,  0.3021, -0.0565, -0.3349, -0.4795, -0.4976, -0.3622]),\n tensor([[ 4.0120e-01, -2.5567e-01,  4.5978e-01, -4.5024e-01],\n         [ 6.6828e-02, -1.1123e-01, -4.0444e-01,  2.7402e-01],\n         [-7.1113e-02,  4.9153e-01,  4.5514e-01, -1.2342e-01],\n         [ 1.9852e-01, -4.7397e-01,  9.0718e-05, -1.8572e-01],\n         [ 1.7333e-01, -3.0725e-01,  1.3581e-01, -6.9968e-02],\n         [-7.4567e-02, -4.3320e-01,  1.6600e-01, -2.9206e-01],\n         [ 2.8228e-01,  2.1105e-01,  7.8039e-03, -1.0287e-01],\n         [-4.5947e-01, -5.4411e-02, -3.7173e-01, -3.4874e-01]]))"
     },
     "execution_count": 12,
     "metadata": {},
     "output_type": "execute_result"
    }
   ],
   "source": [
    "rgnet[0][1][0].bias.detach(), rgnet[0][1][0].weight.detach()"
   ],
   "metadata": {
    "collapsed": false,
    "ExecuteTime": {
     "end_time": "2024-03-17T12:20:43.180783500Z",
     "start_time": "2024-03-17T12:20:43.135886400Z"
    }
   },
   "id": "d6a5e186a4b3e760"
  },
  {
   "cell_type": "code",
   "execution_count": 13,
   "outputs": [
    {
     "data": {
      "text/plain": "(tensor([-0.0153, -0.0072, -0.0017,  0.0066]), tensor(0.))"
     },
     "execution_count": 13,
     "metadata": {},
     "output_type": "execute_result"
    }
   ],
   "source": [
    "def init_normal(m):\n",
    "    if type(m) == nn.Linear:\n",
    "        # 正态分布初始化\n",
    "        nn.init.normal_(m.weight, mean=0, std=0.01)\n",
    "        # make bias zero\n",
    "        nn.init.zeros_(m.bias)\n",
    "net.apply(init_normal)\n",
    "net[0].weight.data[0], net[0].bias.data[0]"
   ],
   "metadata": {
    "collapsed": false,
    "ExecuteTime": {
     "end_time": "2024-03-17T12:20:43.193830600Z",
     "start_time": "2024-03-17T12:20:43.151333400Z"
    }
   },
   "id": "2ae89198ccbb259f"
  },
  {
   "cell_type": "code",
   "execution_count": 14,
   "outputs": [
    {
     "data": {
      "text/plain": "(tensor([1., 1., 1., 1.]), tensor(0.))"
     },
     "execution_count": 14,
     "metadata": {},
     "output_type": "execute_result"
    }
   ],
   "source": [
    "def init_constant(m):\n",
    "    if type(m) == nn.Linear:\n",
    "        # init a constant\n",
    "        nn.init.constant_(m.weight, 1)\n",
    "        nn.init.zeros_(m.bias)\n",
    "net.apply(init_constant)\n",
    "net[0].weight.data[0], net[0].bias.data[0]"
   ],
   "metadata": {
    "collapsed": false,
    "ExecuteTime": {
     "end_time": "2024-03-17T12:20:43.194828900Z",
     "start_time": "2024-03-17T12:20:43.168200800Z"
    }
   },
   "id": "fe8276d9b6e51c22"
  },
  {
   "cell_type": "code",
   "execution_count": 15,
   "outputs": [
    {
     "name": "stdout",
     "output_type": "stream",
     "text": [
      "tensor([-0.5699,  0.2463, -0.0570, -0.5014])\n",
      "tensor([[42., 42., 42., 42., 42., 42., 42., 42.]])\n"
     ]
    }
   ],
   "source": [
    "def init_xavier(m):\n",
    "    if type(m) == nn.Linear:\n",
    "        #  Xavier 初始化\n",
    "        nn.init.xavier_uniform_(m.weight)\n",
    "def init_42(m):\n",
    "    if type(m) == nn.Linear:\n",
    "        nn.init.constant_(m.weight, 42)\n",
    "\n",
    "net[0].apply(init_xavier)\n",
    "net[2].apply(init_42)\n",
    "print(net[0].weight.data[0])\n",
    "print(net[2].weight.data)"
   ],
   "metadata": {
    "collapsed": false,
    "ExecuteTime": {
     "end_time": "2024-03-17T12:20:43.204657400Z",
     "start_time": "2024-03-17T12:20:43.182786800Z"
    }
   },
   "id": "1c44d81e3a3722bd"
  },
  {
   "cell_type": "code",
   "execution_count": 16,
   "outputs": [
    {
     "name": "stdout",
     "output_type": "stream",
     "text": [
      "Init weight torch.Size([8, 4])\n",
      "Init weight torch.Size([1, 8])\n"
     ]
    },
    {
     "data": {
      "text/plain": "tensor([[ 8.8516, -0.0000,  0.0000,  7.4828],\n        [-5.5703, -0.0000,  0.0000, -9.8820]], grad_fn=<SliceBackward0>)"
     },
     "execution_count": 16,
     "metadata": {},
     "output_type": "execute_result"
    }
   ],
   "source": [
    "def my_init(m):\n",
    "    if type(m) == nn.Linear:\n",
    "        print(\"Init\", *[(name, param.shape)\n",
    "                        for name, param in m.named_parameters()][0])\n",
    "        # 将张量初始化为指定范围内的均匀分布随机值\n",
    "        nn.init.uniform_(m.weight, -10, 10)\n",
    "        # 对于值为 False 的位置，对应位置上的权重值将被设置为 0\n",
    "        m.weight.data *= m.weight.data.abs() >= 5\n",
    "\n",
    "net.apply(my_init)\n",
    "net[0].weight[:2]"
   ],
   "metadata": {
    "collapsed": false,
    "ExecuteTime": {
     "end_time": "2024-03-17T12:20:43.258274200Z",
     "start_time": "2024-03-17T12:20:43.199658300Z"
    }
   },
   "id": "7ea1989264b53979"
  },
  {
   "cell_type": "code",
   "execution_count": 17,
   "outputs": [
    {
     "data": {
      "text/plain": "tensor([42.0000,  1.0000,  1.0000,  8.4828])"
     },
     "execution_count": 17,
     "metadata": {},
     "output_type": "execute_result"
    }
   ],
   "source": [
    "# we can change the value of parameter everytime\n",
    "net[0].weight.data[:] += 1\n",
    "net[0].weight.data[0, 0] = 42\n",
    "net[0].weight.data[0]"
   ],
   "metadata": {
    "collapsed": false,
    "ExecuteTime": {
     "end_time": "2024-03-17T12:20:43.271309Z",
     "start_time": "2024-03-17T12:20:43.214658100Z"
    }
   },
   "id": "5208735f31146d70"
  },
  {
   "cell_type": "code",
   "execution_count": 18,
   "outputs": [
    {
     "name": "stdout",
     "output_type": "stream",
     "text": [
      "tensor([True, True, True, True, True, True, True, True])\n",
      "tensor([True, True, True, True, True, True, True, True])\n"
     ]
    }
   ],
   "source": [
    "# 我们需要给共享层一个名称，以便可以引用它的参数\n",
    "shared = nn.Linear(8, 8)\n",
    "net = nn.Sequential(nn.Linear(4, 8), nn.ReLU(),\n",
    "                    shared, nn.ReLU(),\n",
    "                    shared, nn.ReLU(),\n",
    "                    nn.Linear(8, 1))\n",
    "net(X)\n",
    "# 检查参数是否相同\n",
    "print(net[2].weight.data[0] == net[4].weight.data[0])\n",
    "net[2].weight.data[0, 0] = 100\n",
    "# 确保它们实际上是同一个对象，而不只是有相同的值\n",
    "print(net[2].weight.data[0] == net[4].weight.data[0])"
   ],
   "metadata": {
    "collapsed": false,
    "ExecuteTime": {
     "end_time": "2024-03-17T12:20:43.272309800Z",
     "start_time": "2024-03-17T12:20:43.229659200Z"
    }
   },
   "id": "cb8bcb96e4e24103"
  },
  {
   "cell_type": "code",
   "execution_count": 18,
   "outputs": [],
   "source": [],
   "metadata": {
    "collapsed": false,
    "ExecuteTime": {
     "end_time": "2024-03-17T12:20:43.273309400Z",
     "start_time": "2024-03-17T12:20:43.245660200Z"
    }
   },
   "id": "b4f4294dec8fa114"
  }
 ],
 "metadata": {
  "kernelspec": {
   "display_name": "Python 3",
   "language": "python",
   "name": "python3"
  },
  "language_info": {
   "codemirror_mode": {
    "name": "ipython",
    "version": 2
   },
   "file_extension": ".py",
   "mimetype": "text/x-python",
   "name": "python",
   "nbconvert_exporter": "python",
   "pygments_lexer": "ipython2",
   "version": "2.7.6"
  }
 },
 "nbformat": 4,
 "nbformat_minor": 5
}
