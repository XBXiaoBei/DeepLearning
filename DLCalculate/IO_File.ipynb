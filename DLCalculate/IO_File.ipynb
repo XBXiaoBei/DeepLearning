{
 "cells": [
  {
   "cell_type": "markdown",
   "source": [
    "读写文件"
   ],
   "metadata": {
    "collapsed": false
   },
   "id": "afb61088194eee95"
  },
  {
   "cell_type": "code",
   "execution_count": 1,
   "id": "initial_id",
   "metadata": {
    "collapsed": true,
    "ExecuteTime": {
     "end_time": "2024-03-17T13:12:15.804201800Z",
     "start_time": "2024-03-17T13:12:14.309857200Z"
    }
   },
   "outputs": [],
   "source": [
    "import torch\n",
    "from torch import nn\n",
    "from torch.nn import functional as F\n",
    "\n",
    "x = torch.arange(4)\n",
    "# it looks like a binary file, and the format of file can be everything\n",
    "torch.save(x, 'x-file')"
   ]
  },
  {
   "cell_type": "code",
   "execution_count": 2,
   "outputs": [
    {
     "data": {
      "text/plain": "tensor([0, 1, 2, 3])"
     },
     "execution_count": 2,
     "metadata": {},
     "output_type": "execute_result"
    }
   ],
   "source": [
    "x2 = torch.load('x-file')\n",
    "x2"
   ],
   "metadata": {
    "collapsed": false,
    "ExecuteTime": {
     "end_time": "2024-03-17T13:12:15.820577200Z",
     "start_time": "2024-03-17T13:12:15.808201900Z"
    }
   },
   "id": "fa2d46331334f896"
  },
  {
   "cell_type": "code",
   "execution_count": 3,
   "outputs": [
    {
     "data": {
      "text/plain": "(tensor([0, 1, 2, 3]), tensor([0., 0., 0., 0.]))"
     },
     "execution_count": 3,
     "metadata": {},
     "output_type": "execute_result"
    }
   ],
   "source": [
    "y = torch.zeros(4)\n",
    "torch.save([x, y],'x-files')\n",
    "x2, y2 = torch.load('x-files')\n",
    "(x2, y2)"
   ],
   "metadata": {
    "collapsed": false,
    "ExecuteTime": {
     "end_time": "2024-03-17T13:12:15.864012700Z",
     "start_time": "2024-03-17T13:12:15.820577200Z"
    }
   },
   "id": "18f4aa03c47228c4"
  },
  {
   "cell_type": "code",
   "execution_count": 4,
   "outputs": [
    {
     "data": {
      "text/plain": "{'x': tensor([0, 1, 2, 3]), 'y': tensor([0., 0., 0., 0.])}"
     },
     "execution_count": 4,
     "metadata": {},
     "output_type": "execute_result"
    }
   ],
   "source": [
    "mydict = {'x': x, 'y': y}\n",
    "torch.save(mydict, 'mydict')\n",
    "mydict2 = torch.load('mydict')\n",
    "mydict2"
   ],
   "metadata": {
    "collapsed": false,
    "ExecuteTime": {
     "end_time": "2024-03-17T13:12:15.874019900Z",
     "start_time": "2024-03-17T13:12:15.837576300Z"
    }
   },
   "id": "affc5d3e3e7068fc"
  },
  {
   "cell_type": "code",
   "execution_count": 5,
   "outputs": [],
   "source": [
    "class MLP(nn.Module):\n",
    "    def __init__(self):\n",
    "        super().__init__()\n",
    "        self.hidden = nn.Linear(20, 256)\n",
    "        self.output = nn.Linear(256, 10)\n",
    "\n",
    "    def forward(self, x):\n",
    "        return self.output(F.relu(self.hidden(x)))\n",
    "\n",
    "net = MLP()\n",
    "X = torch.randn(size=(2, 20))\n",
    "Y = net(X)"
   ],
   "metadata": {
    "collapsed": false,
    "ExecuteTime": {
     "end_time": "2024-03-17T13:12:15.874019900Z",
     "start_time": "2024-03-17T13:12:15.852872200Z"
    }
   },
   "id": "5a0001b19d0cca39"
  },
  {
   "cell_type": "code",
   "execution_count": 6,
   "outputs": [
    {
     "data": {
      "text/plain": "OrderedDict([('hidden.weight',\n              tensor([[-0.1701, -0.1321, -0.1001,  ..., -0.1763,  0.1074,  0.1441],\n                      [-0.0803, -0.0418,  0.1797,  ...,  0.1160, -0.1921,  0.0640],\n                      [ 0.0258,  0.0231, -0.0756,  ..., -0.0678,  0.1956, -0.0226],\n                      ...,\n                      [ 0.0748, -0.1580,  0.1004,  ..., -0.1522,  0.1536, -0.0501],\n                      [ 0.1028,  0.2203,  0.0618,  ...,  0.0275,  0.1702,  0.2059],\n                      [-0.1963,  0.0675,  0.1607,  ...,  0.1421,  0.0154, -0.0942]])),\n             ('hidden.bias',\n              tensor([-7.1771e-02,  1.1494e-01, -2.2302e-01,  1.8117e-01, -1.5521e-01,\n                      -9.9734e-02,  6.5688e-02,  8.8523e-02,  1.7318e-01,  2.6059e-02,\n                       4.6160e-02,  1.7400e-01,  1.6872e-01,  4.9443e-02,  1.6148e-01,\n                      -1.3231e-01,  1.5369e-01,  4.6455e-02,  1.0456e-01,  7.2863e-02,\n                      -1.4831e-01,  4.8717e-02,  1.3361e-02, -1.7304e-02,  2.1414e-01,\n                      -8.3043e-02,  2.7541e-02,  1.0213e-01,  4.2303e-02, -9.2579e-03,\n                       1.2658e-03,  8.6810e-02,  1.9842e-01,  1.3042e-01,  1.5885e-01,\n                       1.8942e-01,  4.4323e-02,  1.7357e-01,  8.3708e-02, -1.1309e-01,\n                      -8.6011e-02, -3.0754e-02,  1.9002e-01, -4.2280e-02, -2.5438e-02,\n                      -1.4439e-01,  8.3562e-02,  1.4586e-02, -1.4870e-01,  1.3573e-01,\n                       3.7923e-02, -1.0765e-01,  1.2502e-01, -1.4421e-01, -3.1112e-03,\n                      -5.0978e-02,  1.4839e-01,  5.3091e-02,  2.1187e-01, -1.8177e-01,\n                       4.3216e-03, -1.5747e-01, -1.2658e-01,  2.7538e-02, -8.1638e-02,\n                       9.0995e-02, -1.6180e-01, -1.3967e-01, -9.3401e-02, -1.0391e-01,\n                      -8.3920e-02,  1.7303e-01, -7.9445e-02,  7.1235e-02,  1.4545e-01,\n                       1.3683e-01, -4.0922e-02, -1.3881e-01,  4.7601e-03, -4.0762e-02,\n                      -1.9054e-01, -9.0472e-02, -1.5700e-01,  1.8887e-02, -1.3218e-01,\n                       6.6693e-02,  1.8435e-03, -2.3743e-02, -1.4817e-01, -2.1724e-01,\n                      -1.4707e-01, -1.1911e-01,  7.2201e-02, -5.5331e-02,  2.1661e-01,\n                      -1.3784e-01, -1.7419e-01, -1.1342e-01, -8.1759e-02,  2.0826e-01,\n                       4.1514e-02,  1.5904e-01,  9.8841e-02, -4.0230e-02, -1.1109e-01,\n                       2.5319e-02,  1.6804e-01, -4.7556e-02,  1.9389e-01,  2.0144e-01,\n                       2.0118e-01, -8.1166e-02,  1.6769e-02,  1.3833e-01, -1.0996e-01,\n                      -1.9639e-01,  4.9923e-02, -1.6976e-01, -1.7969e-01, -1.2535e-01,\n                      -1.2885e-01, -1.7914e-01, -2.1320e-01,  9.9980e-02, -1.0448e-01,\n                      -4.8854e-03, -7.5173e-02, -5.7470e-02, -1.3338e-01, -2.5403e-03,\n                       6.7292e-02, -1.7633e-01, -3.5182e-02,  8.7004e-02,  1.2494e-01,\n                       1.7951e-01,  6.0226e-02,  1.2375e-02, -9.2033e-02,  2.2266e-01,\n                      -9.1413e-03, -1.0540e-02, -8.7567e-02, -1.6460e-04, -9.3815e-02,\n                      -1.9957e-01, -7.1199e-02,  1.5026e-01,  1.2628e-01,  1.7191e-01,\n                       1.3458e-01, -4.5205e-02,  9.9724e-02, -1.2299e-01,  1.9378e-01,\n                       3.9225e-02,  1.0396e-01,  1.9080e-01,  4.5334e-02,  1.6990e-01,\n                      -6.4571e-02, -1.0719e-01, -2.1529e-01, -1.0166e-01, -1.4589e-01,\n                       1.7699e-01, -1.6517e-01,  1.7830e-01,  3.4078e-02, -1.7220e-01,\n                      -9.7030e-02, -1.3894e-01, -3.5689e-02, -1.1770e-01, -2.1936e-01,\n                       1.2588e-01, -2.3374e-02,  1.0206e-01,  4.3327e-02,  2.0714e-01,\n                      -8.2818e-02,  3.0465e-02, -1.5310e-02,  1.0543e-01, -1.1982e-01,\n                       1.4325e-01,  7.2518e-02, -7.8638e-03, -3.8926e-02,  2.4355e-02,\n                       2.1981e-01,  2.1584e-01, -1.4652e-01,  4.4612e-02, -7.8923e-02,\n                       5.5633e-02,  1.9673e-01,  1.5938e-01,  8.2413e-03, -1.0405e-02,\n                       4.6996e-02, -1.9548e-01,  1.3107e-01,  1.3833e-01,  2.1429e-01,\n                      -4.7169e-02,  2.0527e-01,  1.1888e-01, -1.8837e-01,  1.3924e-01,\n                      -1.4725e-01,  1.2676e-01, -4.0250e-02,  1.0473e-01,  1.3179e-01,\n                      -1.0233e-01, -5.2575e-02, -1.2518e-01, -3.3178e-02,  1.0013e-01,\n                       9.5842e-02,  1.2506e-01, -5.1317e-02,  2.4395e-02,  7.8093e-02,\n                      -1.9006e-01, -1.1120e-01, -4.7652e-02,  2.0297e-01,  2.0518e-02,\n                       2.1481e-01, -2.2245e-01, -7.9481e-02, -8.4221e-02, -2.3281e-02,\n                      -2.6575e-02,  9.3396e-02,  6.2293e-02,  5.3975e-02, -1.6863e-01,\n                      -2.0574e-01,  2.0168e-01, -4.2163e-02,  1.9855e-01, -8.5244e-02,\n                      -1.8196e-01,  2.3903e-02, -1.5286e-01, -1.4109e-01, -1.7601e-02,\n                      -1.5560e-01,  5.5016e-02, -1.8068e-01,  1.3820e-01,  6.4348e-02,\n                      -6.4988e-03])),\n             ('output.weight',\n              tensor([[ 0.0557,  0.0286,  0.0340,  ...,  0.0606,  0.0304, -0.0297],\n                      [-0.0201, -0.0282, -0.0457,  ...,  0.0463,  0.0197,  0.0249],\n                      [ 0.0040, -0.0350,  0.0389,  ..., -0.0207,  0.0392,  0.0111],\n                      ...,\n                      [-0.0420,  0.0257,  0.0386,  ...,  0.0126,  0.0531, -0.0607],\n                      [ 0.0532,  0.0295,  0.0164,  ..., -0.0170,  0.0540,  0.0365],\n                      [ 0.0295,  0.0151,  0.0409,  ..., -0.0144,  0.0600, -0.0311]])),\n             ('output.bias',\n              tensor([-0.0157,  0.0419, -0.0130, -0.0058,  0.0346,  0.0492, -0.0605,  0.0042,\n                      -0.0457,  0.0235]))])"
     },
     "execution_count": 6,
     "metadata": {},
     "output_type": "execute_result"
    }
   ],
   "source": [
    "torch.save(net.state_dict(), 'mlp.params')\n",
    "net.state_dict()"
   ],
   "metadata": {
    "collapsed": false,
    "ExecuteTime": {
     "end_time": "2024-03-17T13:12:15.886764700Z",
     "start_time": "2024-03-17T13:12:15.867019600Z"
    }
   },
   "id": "e0bcb5d9ff21bdd9"
  },
  {
   "cell_type": "code",
   "execution_count": 7,
   "outputs": [
    {
     "data": {
      "text/plain": "MLP(\n  (hidden): Linear(in_features=20, out_features=256, bias=True)\n  (output): Linear(in_features=256, out_features=10, bias=True)\n)"
     },
     "execution_count": 7,
     "metadata": {},
     "output_type": "execute_result"
    }
   ],
   "source": [
    "clone = MLP()\n",
    "clone.load_state_dict(torch.load('mlp.params'))\n",
    "# 将clone转变为评估模式\n",
    "clone.eval()"
   ],
   "metadata": {
    "collapsed": false,
    "ExecuteTime": {
     "end_time": "2024-03-17T13:12:15.926921300Z",
     "start_time": "2024-03-17T13:12:15.882018900Z"
    }
   },
   "id": "b9c8156e0750cb81"
  },
  {
   "cell_type": "code",
   "execution_count": 8,
   "outputs": [
    {
     "data": {
      "text/plain": "tensor([[True, True, True, True, True, True, True, True, True, True],\n        [True, True, True, True, True, True, True, True, True, True]])"
     },
     "execution_count": 8,
     "metadata": {},
     "output_type": "execute_result"
    }
   ],
   "source": [
    "Y_clone = clone(X)\n",
    "Y_clone == Y"
   ],
   "metadata": {
    "collapsed": false,
    "ExecuteTime": {
     "end_time": "2024-03-17T13:12:15.937772500Z",
     "start_time": "2024-03-17T13:12:15.898874600Z"
    }
   },
   "id": "240ebb55e3a6d738"
  },
  {
   "cell_type": "code",
   "execution_count": 8,
   "outputs": [],
   "source": [],
   "metadata": {
    "collapsed": false,
    "ExecuteTime": {
     "end_time": "2024-03-17T13:12:15.937772500Z",
     "start_time": "2024-03-17T13:12:15.913725200Z"
    }
   },
   "id": "552eb5fe393da826"
  }
 ],
 "metadata": {
  "kernelspec": {
   "display_name": "Python 3",
   "language": "python",
   "name": "python3"
  },
  "language_info": {
   "codemirror_mode": {
    "name": "ipython",
    "version": 2
   },
   "file_extension": ".py",
   "mimetype": "text/x-python",
   "name": "python",
   "nbconvert_exporter": "python",
   "pygments_lexer": "ipython2",
   "version": "2.7.6"
  }
 },
 "nbformat": 4,
 "nbformat_minor": 5
}
